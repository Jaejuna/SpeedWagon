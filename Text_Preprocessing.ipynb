{
  "nbformat": 4,
  "nbformat_minor": 0,
  "metadata": {
    "colab": {
      "provenance": [],
      "authorship_tag": "ABX9TyNZikz+TYCI/T0Gzgz3CNGH",
      "include_colab_link": true
    },
    "kernelspec": {
      "name": "python3",
      "display_name": "Python 3"
    },
    "language_info": {
      "name": "python"
    }
  },
  "cells": [
    {
      "cell_type": "markdown",
      "metadata": {
        "id": "view-in-github",
        "colab_type": "text"
      },
      "source": [
        "<a href=\"https://colab.research.google.com/github/Jaejuna/SpeedWagon/blob/main/Text_Preprocessing.ipynb\" target=\"_parent\"><img src=\"https://colab.research.google.com/assets/colab-badge.svg\" alt=\"Open In Colab\"/></a>"
      ]
    },
    {
      "cell_type": "code",
      "source": [
        "from google.colab import drive\n",
        "drive.mount('/content/drive')"
      ],
      "metadata": {
        "colab": {
          "base_uri": "https://localhost:8080/"
        },
        "id": "42Rzpc2dLXip",
        "outputId": "dd5b0af0-b10f-44ce-fb2f-513cd425cef0"
      },
      "execution_count": 1,
      "outputs": [
        {
          "output_type": "stream",
          "name": "stdout",
          "text": [
            "Mounted at /content/drive\n"
          ]
        }
      ]
    },
    {
      "cell_type": "code",
      "source": [
        "import pandas as pd"
      ],
      "metadata": {
        "id": "5-3VXNSvyN-Q"
      },
      "execution_count": 2,
      "outputs": []
    },
    {
      "cell_type": "code",
      "source": [
        "train = pd.read_csv('/content/drive/MyDrive/BOAZ_miniProject2/train.csv')\n",
        "valid = pd.read_csv('/content/drive/MyDrive/BOAZ_miniProject2/valid.csv')"
      ],
      "metadata": {
        "id": "lmr9Kou4yXHq"
      },
      "execution_count": 3,
      "outputs": []
    },
    {
      "cell_type": "code",
      "source": [
        "train.head()"
      ],
      "metadata": {
        "colab": {
          "base_uri": "https://localhost:8080/",
          "height": 206
        },
        "id": "auDFVPHk1Ulx",
        "outputId": "887f040b-bdfa-43de-ad26-68da78fffd7d"
      },
      "execution_count": 4,
      "outputs": [
        {
          "output_type": "execute_result",
          "data": {
            "text/plain": [
              "                                                Text  \\\n",
              "0  웃긴게 20년동안... 바로 옆 가게 주차장에서 같이 그 감자탕집 주차도 했었는데 ...   \n",
              "1  아까 보니깐 로켓 프레시 잇드라 #@시스템#사진# 나도 밥 무거요 호앵 야 제주도는...   \n",
              "2  #@이름#아 먼가 나머리망 이불위에 두고 온거 같다 확인좀 ㅠ 읭?? 만약에 잇으면...   \n",
              "3  분양가 얼마여써? 여기 일억육천구백이더라ㅔ ㅋㅋㅋㅋㅋ걍 여기서 살고싶다..........   \n",
              "4  지금 뭔가 카톡 느리지않녀 새해라 다들 톡하느라 터진건가 ㅇㅇ 약간 버벅댐 ㅇㅇㅇ ...   \n",
              "\n",
              "                                             Summary         Topic  \n",
              "0  20년 동안 감자탕 집 주차도 했었는데 감자탕 집이 장사 잘 되니까 배 아파서 주차...  주거와생활  \n",
              "1                   제주시에 쿠팡 로켓 배송이나 택배가 오는지 물어보고 있다.  주거와생활  \n",
              "2                이불 위에 머리 망이 없다고 하니까 그럼 넣은 것 같다고 했다.  주거와생활  \n",
              "3                        분양가 이억이 넘는데 일억은 대출로 받아야 한다.  주거와생활  \n",
              "4               새해에 다들 카톡을 해서 그런지 카톡이 약간 느렸지만 괜찮아졌다.  주거와생활  "
            ],
            "text/html": [
              "\n",
              "  <div id=\"df-7e83d768-6191-4389-a22e-f034979c9514\">\n",
              "    <div class=\"colab-df-container\">\n",
              "      <div>\n",
              "<style scoped>\n",
              "    .dataframe tbody tr th:only-of-type {\n",
              "        vertical-align: middle;\n",
              "    }\n",
              "\n",
              "    .dataframe tbody tr th {\n",
              "        vertical-align: top;\n",
              "    }\n",
              "\n",
              "    .dataframe thead th {\n",
              "        text-align: right;\n",
              "    }\n",
              "</style>\n",
              "<table border=\"1\" class=\"dataframe\">\n",
              "  <thead>\n",
              "    <tr style=\"text-align: right;\">\n",
              "      <th></th>\n",
              "      <th>Text</th>\n",
              "      <th>Summary</th>\n",
              "      <th>Topic</th>\n",
              "    </tr>\n",
              "  </thead>\n",
              "  <tbody>\n",
              "    <tr>\n",
              "      <th>0</th>\n",
              "      <td>웃긴게 20년동안... 바로 옆 가게 주차장에서 같이 그 감자탕집 주차도 했었는데 ...</td>\n",
              "      <td>20년 동안 감자탕 집 주차도 했었는데 감자탕 집이 장사 잘 되니까 배 아파서 주차...</td>\n",
              "      <td>주거와생활</td>\n",
              "    </tr>\n",
              "    <tr>\n",
              "      <th>1</th>\n",
              "      <td>아까 보니깐 로켓 프레시 잇드라 #@시스템#사진# 나도 밥 무거요 호앵 야 제주도는...</td>\n",
              "      <td>제주시에 쿠팡 로켓 배송이나 택배가 오는지 물어보고 있다.</td>\n",
              "      <td>주거와생활</td>\n",
              "    </tr>\n",
              "    <tr>\n",
              "      <th>2</th>\n",
              "      <td>#@이름#아 먼가 나머리망 이불위에 두고 온거 같다 확인좀 ㅠ 읭?? 만약에 잇으면...</td>\n",
              "      <td>이불 위에 머리 망이 없다고 하니까 그럼 넣은 것 같다고 했다.</td>\n",
              "      <td>주거와생활</td>\n",
              "    </tr>\n",
              "    <tr>\n",
              "      <th>3</th>\n",
              "      <td>분양가 얼마여써? 여기 일억육천구백이더라ㅔ ㅋㅋㅋㅋㅋ걍 여기서 살고싶다..........</td>\n",
              "      <td>분양가 이억이 넘는데 일억은 대출로 받아야 한다.</td>\n",
              "      <td>주거와생활</td>\n",
              "    </tr>\n",
              "    <tr>\n",
              "      <th>4</th>\n",
              "      <td>지금 뭔가 카톡 느리지않녀 새해라 다들 톡하느라 터진건가 ㅇㅇ 약간 버벅댐 ㅇㅇㅇ ...</td>\n",
              "      <td>새해에 다들 카톡을 해서 그런지 카톡이 약간 느렸지만 괜찮아졌다.</td>\n",
              "      <td>주거와생활</td>\n",
              "    </tr>\n",
              "  </tbody>\n",
              "</table>\n",
              "</div>\n",
              "      <button class=\"colab-df-convert\" onclick=\"convertToInteractive('df-7e83d768-6191-4389-a22e-f034979c9514')\"\n",
              "              title=\"Convert this dataframe to an interactive table.\"\n",
              "              style=\"display:none;\">\n",
              "        \n",
              "  <svg xmlns=\"http://www.w3.org/2000/svg\" height=\"24px\"viewBox=\"0 0 24 24\"\n",
              "       width=\"24px\">\n",
              "    <path d=\"M0 0h24v24H0V0z\" fill=\"none\"/>\n",
              "    <path d=\"M18.56 5.44l.94 2.06.94-2.06 2.06-.94-2.06-.94-.94-2.06-.94 2.06-2.06.94zm-11 1L8.5 8.5l.94-2.06 2.06-.94-2.06-.94L8.5 2.5l-.94 2.06-2.06.94zm10 10l.94 2.06.94-2.06 2.06-.94-2.06-.94-.94-2.06-.94 2.06-2.06.94z\"/><path d=\"M17.41 7.96l-1.37-1.37c-.4-.4-.92-.59-1.43-.59-.52 0-1.04.2-1.43.59L10.3 9.45l-7.72 7.72c-.78.78-.78 2.05 0 2.83L4 21.41c.39.39.9.59 1.41.59.51 0 1.02-.2 1.41-.59l7.78-7.78 2.81-2.81c.8-.78.8-2.07 0-2.86zM5.41 20L4 18.59l7.72-7.72 1.47 1.35L5.41 20z\"/>\n",
              "  </svg>\n",
              "      </button>\n",
              "      \n",
              "  <style>\n",
              "    .colab-df-container {\n",
              "      display:flex;\n",
              "      flex-wrap:wrap;\n",
              "      gap: 12px;\n",
              "    }\n",
              "\n",
              "    .colab-df-convert {\n",
              "      background-color: #E8F0FE;\n",
              "      border: none;\n",
              "      border-radius: 50%;\n",
              "      cursor: pointer;\n",
              "      display: none;\n",
              "      fill: #1967D2;\n",
              "      height: 32px;\n",
              "      padding: 0 0 0 0;\n",
              "      width: 32px;\n",
              "    }\n",
              "\n",
              "    .colab-df-convert:hover {\n",
              "      background-color: #E2EBFA;\n",
              "      box-shadow: 0px 1px 2px rgba(60, 64, 67, 0.3), 0px 1px 3px 1px rgba(60, 64, 67, 0.15);\n",
              "      fill: #174EA6;\n",
              "    }\n",
              "\n",
              "    [theme=dark] .colab-df-convert {\n",
              "      background-color: #3B4455;\n",
              "      fill: #D2E3FC;\n",
              "    }\n",
              "\n",
              "    [theme=dark] .colab-df-convert:hover {\n",
              "      background-color: #434B5C;\n",
              "      box-shadow: 0px 1px 3px 1px rgba(0, 0, 0, 0.15);\n",
              "      filter: drop-shadow(0px 1px 2px rgba(0, 0, 0, 0.3));\n",
              "      fill: #FFFFFF;\n",
              "    }\n",
              "  </style>\n",
              "\n",
              "      <script>\n",
              "        const buttonEl =\n",
              "          document.querySelector('#df-7e83d768-6191-4389-a22e-f034979c9514 button.colab-df-convert');\n",
              "        buttonEl.style.display =\n",
              "          google.colab.kernel.accessAllowed ? 'block' : 'none';\n",
              "\n",
              "        async function convertToInteractive(key) {\n",
              "          const element = document.querySelector('#df-7e83d768-6191-4389-a22e-f034979c9514');\n",
              "          const dataTable =\n",
              "            await google.colab.kernel.invokeFunction('convertToInteractive',\n",
              "                                                     [key], {});\n",
              "          if (!dataTable) return;\n",
              "\n",
              "          const docLinkHtml = 'Like what you see? Visit the ' +\n",
              "            '<a target=\"_blank\" href=https://colab.research.google.com/notebooks/data_table.ipynb>data table notebook</a>'\n",
              "            + ' to learn more about interactive tables.';\n",
              "          element.innerHTML = '';\n",
              "          dataTable['output_type'] = 'display_data';\n",
              "          await google.colab.output.renderOutput(dataTable, element);\n",
              "          const docLink = document.createElement('div');\n",
              "          docLink.innerHTML = docLinkHtml;\n",
              "          element.appendChild(docLink);\n",
              "        }\n",
              "      </script>\n",
              "    </div>\n",
              "  </div>\n",
              "  "
            ]
          },
          "metadata": {},
          "execution_count": 4
        }
      ]
    },
    {
      "cell_type": "code",
      "source": [
        "valid.head()"
      ],
      "metadata": {
        "colab": {
          "base_uri": "https://localhost:8080/",
          "height": 206
        },
        "id": "QVGzcrn51Utk",
        "outputId": "bce33cac-994e-437c-a997-de6be2f95498"
      },
      "execution_count": 5,
      "outputs": [
        {
          "output_type": "execute_result",
          "data": {
            "text/plain": [
              "                                                Text  \\\n",
              "0  수유로오셈^^ 지금? 지금가도대? 지금이겠냐? 되겠냐? 집 데려다주냐? 왜안댐? ㅋ...   \n",
              "1  제주도가구시퍼져써 여보시간 업자나 2박3일정두 갔다올수이ㅛ을거같운데 쉬는날몰아서 구...   \n",
              "2  무튼 몇시에 어디서 만나지? 정한거 아냐? 메가박스 2시 45분 매표소?역출구? 매...   \n",
              "3  낼상황봐서 정하자 오켕 낼 보구 밥 정하쟈 ~ 웅 조아용 그리구 간지카페가자 힐링해...   \n",
              "4  내일 모레 머먹어? 김장김치랑 수육!!!!!!!!!! 수!!! 육!!!!! 나는? ...   \n",
              "\n",
              "                              Summary  Topic  \n",
              "0          지금 수유에 갈 테니 집에 데려다 달라고 한다.  행사  \n",
              "1  2박 3일 정도 쉬는 날을 몰아서 제주도에 갔다 오기로 했다.  행사  \n",
              "2       메가박스 매표소에서 2시 45분에 만나기로 약속했다.  행사  \n",
              "3  내일 상황을 봐서 정하자고 카페를 가서 힐링해야 한다고 한다.  행사  \n",
              "4     모레 김장 김치와 수육을 먹을 테니 집으로 오라고 한다.  행사  "
            ],
            "text/html": [
              "\n",
              "  <div id=\"df-b89d0bd0-dd37-470f-b188-8d25546f28c0\">\n",
              "    <div class=\"colab-df-container\">\n",
              "      <div>\n",
              "<style scoped>\n",
              "    .dataframe tbody tr th:only-of-type {\n",
              "        vertical-align: middle;\n",
              "    }\n",
              "\n",
              "    .dataframe tbody tr th {\n",
              "        vertical-align: top;\n",
              "    }\n",
              "\n",
              "    .dataframe thead th {\n",
              "        text-align: right;\n",
              "    }\n",
              "</style>\n",
              "<table border=\"1\" class=\"dataframe\">\n",
              "  <thead>\n",
              "    <tr style=\"text-align: right;\">\n",
              "      <th></th>\n",
              "      <th>Text</th>\n",
              "      <th>Summary</th>\n",
              "      <th>Topic</th>\n",
              "    </tr>\n",
              "  </thead>\n",
              "  <tbody>\n",
              "    <tr>\n",
              "      <th>0</th>\n",
              "      <td>수유로오셈^^ 지금? 지금가도대? 지금이겠냐? 되겠냐? 집 데려다주냐? 왜안댐? ㅋ...</td>\n",
              "      <td>지금 수유에 갈 테니 집에 데려다 달라고 한다.</td>\n",
              "      <td>행사</td>\n",
              "    </tr>\n",
              "    <tr>\n",
              "      <th>1</th>\n",
              "      <td>제주도가구시퍼져써 여보시간 업자나 2박3일정두 갔다올수이ㅛ을거같운데 쉬는날몰아서 구...</td>\n",
              "      <td>2박 3일 정도 쉬는 날을 몰아서 제주도에 갔다 오기로 했다.</td>\n",
              "      <td>행사</td>\n",
              "    </tr>\n",
              "    <tr>\n",
              "      <th>2</th>\n",
              "      <td>무튼 몇시에 어디서 만나지? 정한거 아냐? 메가박스 2시 45분 매표소?역출구? 매...</td>\n",
              "      <td>메가박스 매표소에서 2시 45분에 만나기로 약속했다.</td>\n",
              "      <td>행사</td>\n",
              "    </tr>\n",
              "    <tr>\n",
              "      <th>3</th>\n",
              "      <td>낼상황봐서 정하자 오켕 낼 보구 밥 정하쟈 ~ 웅 조아용 그리구 간지카페가자 힐링해...</td>\n",
              "      <td>내일 상황을 봐서 정하자고 카페를 가서 힐링해야 한다고 한다.</td>\n",
              "      <td>행사</td>\n",
              "    </tr>\n",
              "    <tr>\n",
              "      <th>4</th>\n",
              "      <td>내일 모레 머먹어? 김장김치랑 수육!!!!!!!!!! 수!!! 육!!!!! 나는? ...</td>\n",
              "      <td>모레 김장 김치와 수육을 먹을 테니 집으로 오라고 한다.</td>\n",
              "      <td>행사</td>\n",
              "    </tr>\n",
              "  </tbody>\n",
              "</table>\n",
              "</div>\n",
              "      <button class=\"colab-df-convert\" onclick=\"convertToInteractive('df-b89d0bd0-dd37-470f-b188-8d25546f28c0')\"\n",
              "              title=\"Convert this dataframe to an interactive table.\"\n",
              "              style=\"display:none;\">\n",
              "        \n",
              "  <svg xmlns=\"http://www.w3.org/2000/svg\" height=\"24px\"viewBox=\"0 0 24 24\"\n",
              "       width=\"24px\">\n",
              "    <path d=\"M0 0h24v24H0V0z\" fill=\"none\"/>\n",
              "    <path d=\"M18.56 5.44l.94 2.06.94-2.06 2.06-.94-2.06-.94-.94-2.06-.94 2.06-2.06.94zm-11 1L8.5 8.5l.94-2.06 2.06-.94-2.06-.94L8.5 2.5l-.94 2.06-2.06.94zm10 10l.94 2.06.94-2.06 2.06-.94-2.06-.94-.94-2.06-.94 2.06-2.06.94z\"/><path d=\"M17.41 7.96l-1.37-1.37c-.4-.4-.92-.59-1.43-.59-.52 0-1.04.2-1.43.59L10.3 9.45l-7.72 7.72c-.78.78-.78 2.05 0 2.83L4 21.41c.39.39.9.59 1.41.59.51 0 1.02-.2 1.41-.59l7.78-7.78 2.81-2.81c.8-.78.8-2.07 0-2.86zM5.41 20L4 18.59l7.72-7.72 1.47 1.35L5.41 20z\"/>\n",
              "  </svg>\n",
              "      </button>\n",
              "      \n",
              "  <style>\n",
              "    .colab-df-container {\n",
              "      display:flex;\n",
              "      flex-wrap:wrap;\n",
              "      gap: 12px;\n",
              "    }\n",
              "\n",
              "    .colab-df-convert {\n",
              "      background-color: #E8F0FE;\n",
              "      border: none;\n",
              "      border-radius: 50%;\n",
              "      cursor: pointer;\n",
              "      display: none;\n",
              "      fill: #1967D2;\n",
              "      height: 32px;\n",
              "      padding: 0 0 0 0;\n",
              "      width: 32px;\n",
              "    }\n",
              "\n",
              "    .colab-df-convert:hover {\n",
              "      background-color: #E2EBFA;\n",
              "      box-shadow: 0px 1px 2px rgba(60, 64, 67, 0.3), 0px 1px 3px 1px rgba(60, 64, 67, 0.15);\n",
              "      fill: #174EA6;\n",
              "    }\n",
              "\n",
              "    [theme=dark] .colab-df-convert {\n",
              "      background-color: #3B4455;\n",
              "      fill: #D2E3FC;\n",
              "    }\n",
              "\n",
              "    [theme=dark] .colab-df-convert:hover {\n",
              "      background-color: #434B5C;\n",
              "      box-shadow: 0px 1px 3px 1px rgba(0, 0, 0, 0.15);\n",
              "      filter: drop-shadow(0px 1px 2px rgba(0, 0, 0, 0.3));\n",
              "      fill: #FFFFFF;\n",
              "    }\n",
              "  </style>\n",
              "\n",
              "      <script>\n",
              "        const buttonEl =\n",
              "          document.querySelector('#df-b89d0bd0-dd37-470f-b188-8d25546f28c0 button.colab-df-convert');\n",
              "        buttonEl.style.display =\n",
              "          google.colab.kernel.accessAllowed ? 'block' : 'none';\n",
              "\n",
              "        async function convertToInteractive(key) {\n",
              "          const element = document.querySelector('#df-b89d0bd0-dd37-470f-b188-8d25546f28c0');\n",
              "          const dataTable =\n",
              "            await google.colab.kernel.invokeFunction('convertToInteractive',\n",
              "                                                     [key], {});\n",
              "          if (!dataTable) return;\n",
              "\n",
              "          const docLinkHtml = 'Like what you see? Visit the ' +\n",
              "            '<a target=\"_blank\" href=https://colab.research.google.com/notebooks/data_table.ipynb>data table notebook</a>'\n",
              "            + ' to learn more about interactive tables.';\n",
              "          element.innerHTML = '';\n",
              "          dataTable['output_type'] = 'display_data';\n",
              "          await google.colab.output.renderOutput(dataTable, element);\n",
              "          const docLink = document.createElement('div');\n",
              "          docLink.innerHTML = docLinkHtml;\n",
              "          element.appendChild(docLink);\n",
              "        }\n",
              "      </script>\n",
              "    </div>\n",
              "  </div>\n",
              "  "
            ]
          },
          "metadata": {},
          "execution_count": 5
        }
      ]
    },
    {
      "cell_type": "markdown",
      "source": [
        "## EDA"
      ],
      "metadata": {
        "id": "VqBKyGusySPe"
      }
    },
    {
      "cell_type": "code",
      "source": [
        "print(\"Size of train data :\", len(train))\n",
        "print(\"Size of validation data :\", len(valid))"
      ],
      "metadata": {
        "colab": {
          "base_uri": "https://localhost:8080/"
        },
        "id": "IIG2vGJEyj9D",
        "outputId": "bb85ccf0-5cca-4497-cf90-3a159f261e95"
      },
      "execution_count": null,
      "outputs": [
        {
          "output_type": "stream",
          "name": "stdout",
          "text": [
            "Size of train data : 279992\n",
            "Size of validation data : 35004\n"
          ]
        }
      ]
    },
    {
      "cell_type": "code",
      "source": [
        "# Train / Valid dataset split rate\n",
        "len(train) / len(valid) # 8:1 비율"
      ],
      "metadata": {
        "colab": {
          "base_uri": "https://localhost:8080/"
        },
        "id": "kvFHijEz1nA9",
        "outputId": "6ad55dbe-fea6-4be3-af2a-a4acf797fc9a"
      },
      "execution_count": null,
      "outputs": [
        {
          "output_type": "execute_result",
          "data": {
            "text/plain": [
              "7.998857273454463"
            ]
          },
          "metadata": {},
          "execution_count": 14
        }
      ]
    },
    {
      "cell_type": "code",
      "source": [
        "# Topic 종류\n",
        "train['Topic'].unique()"
      ],
      "metadata": {
        "colab": {
          "base_uri": "https://localhost:8080/"
        },
        "id": "oab5q3bzyTnq",
        "outputId": "cb31ac2d-6496-4462-8ea3-c0bb942dd5a4"
      },
      "execution_count": null,
      "outputs": [
        {
          "output_type": "execute_result",
          "data": {
            "text/plain": [
              "array(['주거와생활', '시사교육', '상거래(쇼핑)', '개인및관계',\n",
              "       '행사', '미용과건강', '일과직업', '식음료', '여가생활'],\n",
              "      dtype=object)"
            ]
          },
          "metadata": {},
          "execution_count": 18
        }
      ]
    },
    {
      "cell_type": "code",
      "source": [
        "valid['Topic'].unique()"
      ],
      "metadata": {
        "colab": {
          "base_uri": "https://localhost:8080/"
        },
        "id": "EDMQAXekyq9O",
        "outputId": "8169229b-c9f0-4ab5-ddf1-687d17e0b07c"
      },
      "execution_count": null,
      "outputs": [
        {
          "output_type": "execute_result",
          "data": {
            "text/plain": [
              "array(['행사', '시사교육', '상거래(쇼핑)', '개인및관계',\n",
              "       '주거와생활', '여가생활', '미용과건강', '일과직업',\n",
              "       '식음료'], dtype=object)"
            ]
          },
          "metadata": {},
          "execution_count": 19
        }
      ]
    },
    {
      "cell_type": "code",
      "source": [
        "# Topic 별 Dialogue 수\n",
        "pd.DataFrame(train.groupby(\"Topic\").count().iloc[:,0])"
      ],
      "metadata": {
        "colab": {
          "base_uri": "https://localhost:8080/",
          "height": 363
        },
        "id": "72ov65A92CZi",
        "outputId": "83e48278-0703-4f18-c6c4-3e8f6b46eab6"
      },
      "execution_count": null,
      "outputs": [
        {
          "output_type": "execute_result",
          "data": {
            "text/plain": [
              "                 Text\n",
              "Topic                \n",
              "개인및관계   71130\n",
              "미용과건강   17069\n",
              "상거래(쇼핑)  26298\n",
              "시사교육       13119\n",
              "식음료        30184\n",
              "여가생활      35247\n",
              "일과직업     20428\n",
              "주거와생활    45179\n",
              "행사           21338"
            ],
            "text/html": [
              "\n",
              "  <div id=\"df-5924c949-08ef-4a92-84d8-5bfa9e897f08\">\n",
              "    <div class=\"colab-df-container\">\n",
              "      <div>\n",
              "<style scoped>\n",
              "    .dataframe tbody tr th:only-of-type {\n",
              "        vertical-align: middle;\n",
              "    }\n",
              "\n",
              "    .dataframe tbody tr th {\n",
              "        vertical-align: top;\n",
              "    }\n",
              "\n",
              "    .dataframe thead th {\n",
              "        text-align: right;\n",
              "    }\n",
              "</style>\n",
              "<table border=\"1\" class=\"dataframe\">\n",
              "  <thead>\n",
              "    <tr style=\"text-align: right;\">\n",
              "      <th></th>\n",
              "      <th>Text</th>\n",
              "    </tr>\n",
              "    <tr>\n",
              "      <th>Topic</th>\n",
              "      <th></th>\n",
              "    </tr>\n",
              "  </thead>\n",
              "  <tbody>\n",
              "    <tr>\n",
              "      <th>개인및관계</th>\n",
              "      <td>71130</td>\n",
              "    </tr>\n",
              "    <tr>\n",
              "      <th>미용과건강</th>\n",
              "      <td>17069</td>\n",
              "    </tr>\n",
              "    <tr>\n",
              "      <th>상거래(쇼핑)</th>\n",
              "      <td>26298</td>\n",
              "    </tr>\n",
              "    <tr>\n",
              "      <th>시사교육</th>\n",
              "      <td>13119</td>\n",
              "    </tr>\n",
              "    <tr>\n",
              "      <th>식음료</th>\n",
              "      <td>30184</td>\n",
              "    </tr>\n",
              "    <tr>\n",
              "      <th>여가생활</th>\n",
              "      <td>35247</td>\n",
              "    </tr>\n",
              "    <tr>\n",
              "      <th>일과직업</th>\n",
              "      <td>20428</td>\n",
              "    </tr>\n",
              "    <tr>\n",
              "      <th>주거와생활</th>\n",
              "      <td>45179</td>\n",
              "    </tr>\n",
              "    <tr>\n",
              "      <th>행사</th>\n",
              "      <td>21338</td>\n",
              "    </tr>\n",
              "  </tbody>\n",
              "</table>\n",
              "</div>\n",
              "      <button class=\"colab-df-convert\" onclick=\"convertToInteractive('df-5924c949-08ef-4a92-84d8-5bfa9e897f08')\"\n",
              "              title=\"Convert this dataframe to an interactive table.\"\n",
              "              style=\"display:none;\">\n",
              "        \n",
              "  <svg xmlns=\"http://www.w3.org/2000/svg\" height=\"24px\"viewBox=\"0 0 24 24\"\n",
              "       width=\"24px\">\n",
              "    <path d=\"M0 0h24v24H0V0z\" fill=\"none\"/>\n",
              "    <path d=\"M18.56 5.44l.94 2.06.94-2.06 2.06-.94-2.06-.94-.94-2.06-.94 2.06-2.06.94zm-11 1L8.5 8.5l.94-2.06 2.06-.94-2.06-.94L8.5 2.5l-.94 2.06-2.06.94zm10 10l.94 2.06.94-2.06 2.06-.94-2.06-.94-.94-2.06-.94 2.06-2.06.94z\"/><path d=\"M17.41 7.96l-1.37-1.37c-.4-.4-.92-.59-1.43-.59-.52 0-1.04.2-1.43.59L10.3 9.45l-7.72 7.72c-.78.78-.78 2.05 0 2.83L4 21.41c.39.39.9.59 1.41.59.51 0 1.02-.2 1.41-.59l7.78-7.78 2.81-2.81c.8-.78.8-2.07 0-2.86zM5.41 20L4 18.59l7.72-7.72 1.47 1.35L5.41 20z\"/>\n",
              "  </svg>\n",
              "      </button>\n",
              "      \n",
              "  <style>\n",
              "    .colab-df-container {\n",
              "      display:flex;\n",
              "      flex-wrap:wrap;\n",
              "      gap: 12px;\n",
              "    }\n",
              "\n",
              "    .colab-df-convert {\n",
              "      background-color: #E8F0FE;\n",
              "      border: none;\n",
              "      border-radius: 50%;\n",
              "      cursor: pointer;\n",
              "      display: none;\n",
              "      fill: #1967D2;\n",
              "      height: 32px;\n",
              "      padding: 0 0 0 0;\n",
              "      width: 32px;\n",
              "    }\n",
              "\n",
              "    .colab-df-convert:hover {\n",
              "      background-color: #E2EBFA;\n",
              "      box-shadow: 0px 1px 2px rgba(60, 64, 67, 0.3), 0px 1px 3px 1px rgba(60, 64, 67, 0.15);\n",
              "      fill: #174EA6;\n",
              "    }\n",
              "\n",
              "    [theme=dark] .colab-df-convert {\n",
              "      background-color: #3B4455;\n",
              "      fill: #D2E3FC;\n",
              "    }\n",
              "\n",
              "    [theme=dark] .colab-df-convert:hover {\n",
              "      background-color: #434B5C;\n",
              "      box-shadow: 0px 1px 3px 1px rgba(0, 0, 0, 0.15);\n",
              "      filter: drop-shadow(0px 1px 2px rgba(0, 0, 0, 0.3));\n",
              "      fill: #FFFFFF;\n",
              "    }\n",
              "  </style>\n",
              "\n",
              "      <script>\n",
              "        const buttonEl =\n",
              "          document.querySelector('#df-5924c949-08ef-4a92-84d8-5bfa9e897f08 button.colab-df-convert');\n",
              "        buttonEl.style.display =\n",
              "          google.colab.kernel.accessAllowed ? 'block' : 'none';\n",
              "\n",
              "        async function convertToInteractive(key) {\n",
              "          const element = document.querySelector('#df-5924c949-08ef-4a92-84d8-5bfa9e897f08');\n",
              "          const dataTable =\n",
              "            await google.colab.kernel.invokeFunction('convertToInteractive',\n",
              "                                                     [key], {});\n",
              "          if (!dataTable) return;\n",
              "\n",
              "          const docLinkHtml = 'Like what you see? Visit the ' +\n",
              "            '<a target=\"_blank\" href=https://colab.research.google.com/notebooks/data_table.ipynb>data table notebook</a>'\n",
              "            + ' to learn more about interactive tables.';\n",
              "          element.innerHTML = '';\n",
              "          dataTable['output_type'] = 'display_data';\n",
              "          await google.colab.output.renderOutput(dataTable, element);\n",
              "          const docLink = document.createElement('div');\n",
              "          docLink.innerHTML = docLinkHtml;\n",
              "          element.appendChild(docLink);\n",
              "        }\n",
              "      </script>\n",
              "    </div>\n",
              "  </div>\n",
              "  "
            ]
          },
          "metadata": {},
          "execution_count": 23
        }
      ]
    },
    {
      "cell_type": "code",
      "source": [
        "pd.DataFrame(valid.groupby(\"Topic\").count().iloc[:,0])"
      ],
      "metadata": {
        "colab": {
          "base_uri": "https://localhost:8080/",
          "height": 363
        },
        "id": "ENNbSwQI1222",
        "outputId": "cb80713d-af06-44c1-b0b8-19dd687b3f39"
      },
      "execution_count": null,
      "outputs": [
        {
          "output_type": "execute_result",
          "data": {
            "text/plain": [
              "                Text\n",
              "Topic               \n",
              "개인및관계   8892\n",
              "미용과건강   2134\n",
              "상거래(쇼핑)  3288\n",
              "시사교육       1640\n",
              "식음료        3773\n",
              "여가생활      4407\n",
              "일과직업     2554\n",
              "주거와생활    5648\n",
              "행사           2668"
            ],
            "text/html": [
              "\n",
              "  <div id=\"df-4264f4fa-e40e-4121-bcd2-073b595a0a8b\">\n",
              "    <div class=\"colab-df-container\">\n",
              "      <div>\n",
              "<style scoped>\n",
              "    .dataframe tbody tr th:only-of-type {\n",
              "        vertical-align: middle;\n",
              "    }\n",
              "\n",
              "    .dataframe tbody tr th {\n",
              "        vertical-align: top;\n",
              "    }\n",
              "\n",
              "    .dataframe thead th {\n",
              "        text-align: right;\n",
              "    }\n",
              "</style>\n",
              "<table border=\"1\" class=\"dataframe\">\n",
              "  <thead>\n",
              "    <tr style=\"text-align: right;\">\n",
              "      <th></th>\n",
              "      <th>Text</th>\n",
              "    </tr>\n",
              "    <tr>\n",
              "      <th>Topic</th>\n",
              "      <th></th>\n",
              "    </tr>\n",
              "  </thead>\n",
              "  <tbody>\n",
              "    <tr>\n",
              "      <th>개인및관계</th>\n",
              "      <td>8892</td>\n",
              "    </tr>\n",
              "    <tr>\n",
              "      <th>미용과건강</th>\n",
              "      <td>2134</td>\n",
              "    </tr>\n",
              "    <tr>\n",
              "      <th>상거래(쇼핑)</th>\n",
              "      <td>3288</td>\n",
              "    </tr>\n",
              "    <tr>\n",
              "      <th>시사교육</th>\n",
              "      <td>1640</td>\n",
              "    </tr>\n",
              "    <tr>\n",
              "      <th>식음료</th>\n",
              "      <td>3773</td>\n",
              "    </tr>\n",
              "    <tr>\n",
              "      <th>여가생활</th>\n",
              "      <td>4407</td>\n",
              "    </tr>\n",
              "    <tr>\n",
              "      <th>일과직업</th>\n",
              "      <td>2554</td>\n",
              "    </tr>\n",
              "    <tr>\n",
              "      <th>주거와생활</th>\n",
              "      <td>5648</td>\n",
              "    </tr>\n",
              "    <tr>\n",
              "      <th>행사</th>\n",
              "      <td>2668</td>\n",
              "    </tr>\n",
              "  </tbody>\n",
              "</table>\n",
              "</div>\n",
              "      <button class=\"colab-df-convert\" onclick=\"convertToInteractive('df-4264f4fa-e40e-4121-bcd2-073b595a0a8b')\"\n",
              "              title=\"Convert this dataframe to an interactive table.\"\n",
              "              style=\"display:none;\">\n",
              "        \n",
              "  <svg xmlns=\"http://www.w3.org/2000/svg\" height=\"24px\"viewBox=\"0 0 24 24\"\n",
              "       width=\"24px\">\n",
              "    <path d=\"M0 0h24v24H0V0z\" fill=\"none\"/>\n",
              "    <path d=\"M18.56 5.44l.94 2.06.94-2.06 2.06-.94-2.06-.94-.94-2.06-.94 2.06-2.06.94zm-11 1L8.5 8.5l.94-2.06 2.06-.94-2.06-.94L8.5 2.5l-.94 2.06-2.06.94zm10 10l.94 2.06.94-2.06 2.06-.94-2.06-.94-.94-2.06-.94 2.06-2.06.94z\"/><path d=\"M17.41 7.96l-1.37-1.37c-.4-.4-.92-.59-1.43-.59-.52 0-1.04.2-1.43.59L10.3 9.45l-7.72 7.72c-.78.78-.78 2.05 0 2.83L4 21.41c.39.39.9.59 1.41.59.51 0 1.02-.2 1.41-.59l7.78-7.78 2.81-2.81c.8-.78.8-2.07 0-2.86zM5.41 20L4 18.59l7.72-7.72 1.47 1.35L5.41 20z\"/>\n",
              "  </svg>\n",
              "      </button>\n",
              "      \n",
              "  <style>\n",
              "    .colab-df-container {\n",
              "      display:flex;\n",
              "      flex-wrap:wrap;\n",
              "      gap: 12px;\n",
              "    }\n",
              "\n",
              "    .colab-df-convert {\n",
              "      background-color: #E8F0FE;\n",
              "      border: none;\n",
              "      border-radius: 50%;\n",
              "      cursor: pointer;\n",
              "      display: none;\n",
              "      fill: #1967D2;\n",
              "      height: 32px;\n",
              "      padding: 0 0 0 0;\n",
              "      width: 32px;\n",
              "    }\n",
              "\n",
              "    .colab-df-convert:hover {\n",
              "      background-color: #E2EBFA;\n",
              "      box-shadow: 0px 1px 2px rgba(60, 64, 67, 0.3), 0px 1px 3px 1px rgba(60, 64, 67, 0.15);\n",
              "      fill: #174EA6;\n",
              "    }\n",
              "\n",
              "    [theme=dark] .colab-df-convert {\n",
              "      background-color: #3B4455;\n",
              "      fill: #D2E3FC;\n",
              "    }\n",
              "\n",
              "    [theme=dark] .colab-df-convert:hover {\n",
              "      background-color: #434B5C;\n",
              "      box-shadow: 0px 1px 3px 1px rgba(0, 0, 0, 0.15);\n",
              "      filter: drop-shadow(0px 1px 2px rgba(0, 0, 0, 0.3));\n",
              "      fill: #FFFFFF;\n",
              "    }\n",
              "  </style>\n",
              "\n",
              "      <script>\n",
              "        const buttonEl =\n",
              "          document.querySelector('#df-4264f4fa-e40e-4121-bcd2-073b595a0a8b button.colab-df-convert');\n",
              "        buttonEl.style.display =\n",
              "          google.colab.kernel.accessAllowed ? 'block' : 'none';\n",
              "\n",
              "        async function convertToInteractive(key) {\n",
              "          const element = document.querySelector('#df-4264f4fa-e40e-4121-bcd2-073b595a0a8b');\n",
              "          const dataTable =\n",
              "            await google.colab.kernel.invokeFunction('convertToInteractive',\n",
              "                                                     [key], {});\n",
              "          if (!dataTable) return;\n",
              "\n",
              "          const docLinkHtml = 'Like what you see? Visit the ' +\n",
              "            '<a target=\"_blank\" href=https://colab.research.google.com/notebooks/data_table.ipynb>data table notebook</a>'\n",
              "            + ' to learn more about interactive tables.';\n",
              "          element.innerHTML = '';\n",
              "          dataTable['output_type'] = 'display_data';\n",
              "          await google.colab.output.renderOutput(dataTable, element);\n",
              "          const docLink = document.createElement('div');\n",
              "          docLink.innerHTML = docLinkHtml;\n",
              "          element.appendChild(docLink);\n",
              "        }\n",
              "      </script>\n",
              "    </div>\n",
              "  </div>\n",
              "  "
            ]
          },
          "metadata": {},
          "execution_count": 22
        }
      ]
    },
    {
      "cell_type": "markdown",
      "source": [
        "## Data Preprocessing"
      ],
      "metadata": {
        "id": "_R0Q8cxcyLxk"
      }
    },
    {
      "cell_type": "code",
      "source": [
        "# 네이버 맞춤법 검사기\n",
        "!pip install git+https://github.com/jungin500/py-hanspell"
      ],
      "metadata": {
        "colab": {
          "base_uri": "https://localhost:8080/"
        },
        "id": "F0dYZ6XtK-u7",
        "outputId": "e7cc6c4c-ec5f-4cb2-bcc5-3511d2fce7b2"
      },
      "execution_count": 7,
      "outputs": [
        {
          "output_type": "stream",
          "name": "stdout",
          "text": [
            "Looking in indexes: https://pypi.org/simple, https://us-python.pkg.dev/colab-wheels/public/simple/\n",
            "Collecting git+https://github.com/jungin500/py-hanspell\n",
            "  Cloning https://github.com/jungin500/py-hanspell to /tmp/pip-req-build-tf74hdvd\n",
            "  Running command git clone --filter=blob:none --quiet https://github.com/jungin500/py-hanspell /tmp/pip-req-build-tf74hdvd\n",
            "  Resolved https://github.com/jungin500/py-hanspell to commit b4fb712334496821db4dffb981cc73a9bbaee673\n",
            "  Preparing metadata (setup.py) ... \u001b[?25l\u001b[?25hdone\n",
            "Requirement already satisfied: requests in /usr/local/lib/python3.10/dist-packages (from py-hanspell==1.1) (2.27.1)\n",
            "Requirement already satisfied: urllib3<1.27,>=1.21.1 in /usr/local/lib/python3.10/dist-packages (from requests->py-hanspell==1.1) (1.26.15)\n",
            "Requirement already satisfied: certifi>=2017.4.17 in /usr/local/lib/python3.10/dist-packages (from requests->py-hanspell==1.1) (2022.12.7)\n",
            "Requirement already satisfied: charset-normalizer~=2.0.0 in /usr/local/lib/python3.10/dist-packages (from requests->py-hanspell==1.1) (2.0.12)\n",
            "Requirement already satisfied: idna<4,>=2.5 in /usr/local/lib/python3.10/dist-packages (from requests->py-hanspell==1.1) (3.4)\n",
            "Building wheels for collected packages: py-hanspell\n",
            "  Building wheel for py-hanspell (setup.py) ... \u001b[?25l\u001b[?25hdone\n",
            "  Created wheel for py-hanspell: filename=py_hanspell-1.1-py3-none-any.whl size=4808 sha256=315f5bf7a948de87d86795cec1f3bc2905fe09713fa887efaa22308482158f84\n",
            "  Stored in directory: /tmp/pip-ephem-wheel-cache-gtn0a3k5/wheels/68/4f/41/c18b9dcfedfd7919c66badb0afcdc879b9d7a6123212c34b15\n",
            "Successfully built py-hanspell\n",
            "Installing collected packages: py-hanspell\n",
            "Successfully installed py-hanspell-1.1\n"
          ]
        }
      ]
    },
    {
      "cell_type": "code",
      "source": [
        "from hanspell import spell_checker\n",
        "import re"
      ],
      "metadata": {
        "id": "OXQfURCsNQ5A"
      },
      "execution_count": 8,
      "outputs": []
    },
    {
      "cell_type": "code",
      "source": [
        "def preprocess(text):\n",
        "  text = text.lower() # 영어 텍스트를 소문자로 변환\n",
        "  text = re.sub(r'[ㄱ-ㅎㅏ-ㅣ]+[/ㄱ-ㅎㅏ-ㅣ]', '', text) # 반복되는 자음, 모음 제거 (ex. ㅋㅋ ㅠㅠ)\n",
        "  text = spell_checker.check(text).checked # 맞춤법 검사\n",
        "  text = re.sub(r'\\.{3,}', '..', text) # .이 3개 이상 반복되면 2개로 변환 \n",
        "  text = re.sub(r'\\?{2,}', '?', text) # ?이 2개 이상 반복되면 1개로 변환\n",
        "  text = re.sub(r'\\!{2,}', '!', text) # !이 2개 이상 반복되면 1개로 변환\n",
        "  text = re.sub(r'\\~{2,}', '~', text) # ~이 2개 이상 반복되면 1개로 변환\n",
        "  text = re.sub(r'[\" \"]+', \" \", text) # 공백 여러 개를 1개로 변환\n",
        "  text = text.strip() # 양쪽 공백 제거\n",
        "  return text"
      ],
      "metadata": {
        "id": "SpBTIRAcMelP"
      },
      "execution_count": 21,
      "outputs": []
    },
    {
      "cell_type": "code",
      "source": [
        "train.iloc[2,0]"
      ],
      "metadata": {
        "colab": {
          "base_uri": "https://localhost:8080/",
          "height": 35
        },
        "id": "JUkX1CK0NWz9",
        "outputId": "2de2294e-a091-46e3-cef2-1853989352d1"
      },
      "execution_count": 17,
      "outputs": [
        {
          "output_type": "execute_result",
          "data": {
            "text/plain": [
              "'#@이름#아 먼가 나머리망 이불위에 두고 온거 같다 확인좀 ㅠ 읭?? 만약에 잇으면 침대 밑 바닥에 놔줭 #@이모티콘# 기달 업는뎅ㅜ 구럼 내가 너엇나바 ㅋㅋㅋㅋ 땡큐'"
            ],
            "application/vnd.google.colaboratory.intrinsic+json": {
              "type": "string"
            }
          },
          "metadata": {},
          "execution_count": 17
        }
      ]
    },
    {
      "cell_type": "code",
      "source": [
        "preprocess(train.iloc[2,0])"
      ],
      "metadata": {
        "colab": {
          "base_uri": "https://localhost:8080/",
          "height": 35
        },
        "id": "zFxRWnXfPnI7",
        "outputId": "b3d6e759-ba98-4c59-eece-2ba93515a457"
      },
      "execution_count": 18,
      "outputs": [
        {
          "output_type": "execute_result",
          "data": {
            "text/plain": [
              "'#@이름#아 먼가 나 머리망 이불 위에 두고 온 거 같다 확인 좀 ㅠ 응? 만약에 있으면 침대 밑 바닥에 놔줘 #@이모티콘# 기달 업는데ᅮ 그럼 내가 너 엇나 바 땡큐'"
            ],
            "application/vnd.google.colaboratory.intrinsic+json": {
              "type": "string"
            }
          },
          "metadata": {},
          "execution_count": 18
        }
      ]
    },
    {
      "cell_type": "code",
      "source": [
        "for i in range(50):\n",
        "  print(preprocess(valid.iloc[i,0]))"
      ],
      "metadata": {
        "colab": {
          "base_uri": "https://localhost:8080/"
        },
        "id": "YyxDAqaeeEq1",
        "outputId": "47db7afb-745c-4eab-b5b7-55bd228063fe"
      },
      "execution_count": 30,
      "outputs": [
        {
          "output_type": "stream",
          "name": "stdout",
          "text": [
            "수유로 오세요^^ 지금? 지금 가도 대? 지금이겠냐? 되겠냐? 집 데려다주냐? 왜 안댐? 네가 나 데려다줘야지 내가 수유 가는데\n",
            "제주도가 구 시퍼죠 써 여보 시간 업자나 2박 3일 정도 갔다 올 수 이ㅛ을 거 같은데 쉬는 날 몰아서 구래? 갈수이셔? 웅갈수이띠 여유 생기 보라카이 가기 전 애 한번 갔다 오자 꾸래\n",
            "아무튼 몇 시에 어디서 만나지? 정한 거 아냐? 메가박스 2시 45분 매표소? 역 출구? 매표소가 낫지 않을까? 역 출구 서있기 애매할걸 그래 와파 안 뜨면 연락 못 하니까 힘내서 찾아.. 왜 2시 45분인진 몰겠지만 그냥 3시 5분 영화니까 20분 전 힘내서 찾을게!\n",
            "낼 상황 봐서 정하자 오케이 낼 보고 밥 정하자 ~ 웅 좋아요 그리고 간지 카페가 자 힐링해야 해 .. 힐링,, , 좋지~\n",
            "내일모레 뭐 먹어? 김장김치랑 수육! 수! 육! 나는? 너도 와 그럼 나도 수육..! 어디로? ㅇ우리 집 가도 돼?..\n",
            "온니 자나 잘 갔다 왕 자기는 제주도 숙소 예약하고 있음 전날까지 고통받네 빨리하고 자야지,,, 파이팅!\n",
            "음.. 10분? 그럼 40분쯤 도착할 거 같아? 시간 봐서 카페 가려 구 커피.. 모닝커피.. ㅎ 응응 그 정도쯤 커피마시구있오 내가 그쪽으로 갈게ㅜ 응응\n",
            "아니 그래서 내일은 뭘 하지 형부 전시? 음 갈 곳은 많아유 그럴까 아니면 닭발 ㄱ? 닭발 조와 치\n",
            "나 오늘 피부과 가고 하느라 늦게 잘 거 같아서 그럼 오늘 만나긴 힘들겠지? 오늘 본가가서 자구 낼 드레스 투어 엄마랑 같이 움직일까 하고 아 윙윙 그래야겠다 오늘 피부과 가서 늦게 자구나 웅 오늘 어떻게 될지 전혀 모르겠어 응응 나도 ㅜ 설마 시간 되더라도 자기 집 가서 쉬어야 할 거 같기도 사인했다며~ 축하해 아 고마워! 계속 너무 바쁘다\n",
            "몇 시까지 갈까? 글쎄 지금 상태로는 7시? 그래그래 좀 늦게 먹자~ 배가 안 고플 거 같아 그때 보자 응응!\n",
            "정말 시간을 착각했어 2시간 전에 출발해야지 하구 3시에 출발한 거 같아 에고고 짐 오고 있어? 응 가구 있어 수고했어요.\n",
            "님 시간은요 상관없댔나 웅 근데 오후면 조케쏘 4시? 윙윙 오후 비행기가 싸서.. 4시가 가 경쟁률도 낮지 않을까 나 흑흑 그래쑤묜 좋겠다ᅲ\n",
            "어쩌지.. 음.. 그럼 토요일에 영화 보고 야행 갈까? 고민된다.. 영화 보면 너랑 마주 보지 않고 그냥 스크린만 보는 시간이 많아서 아쉽고.. 음.. 영화 시간 나오는 거 보고 응응 그래야겠단 수요일엔 주말 시간표 나오니까\n",
            "다음 주 월요일에 전화 사주 예약해뒀어 떨려 기대된다 거기 진짜 잘 맞으려나 유명한데 했잖아 맞아 후 기대된다 잘 맞으면 나도 볼래 직접 가서 보고 싶지만 전화 상담만 가능하대 지금\n",
            "#@이름# 어느 끝나고 머 하니 나. 집 가디 오 만날까? 나 8시에 끝나는데 같이 밥 머글까 고민했는데 너무 배고파서 집 가는 길이 긴 한데 지철 타고 수유 빨리 와라 그럼 뭐얔\n",
            "아 진짜! 만나면 몇 시쯤!? 머먹으꼬야 6시! 막창 먹으려고 흐흐흐 아 진짜 아ㅏ 나 한 6시 반 정도엔 갈 수 있는데! 일단 나 5분 후에 다시 말해줄게! 오 진짜? 좋다! 오키오킹~ 여섯시 반에 나도 나도! 꺄 완전 좋아좋아\n",
            "나는 가게 된다면 해외여행으로 괌 가고 싶어 친구가 다녀왔는데 너무 좋다고 해서 미국이니까 아무래도 더 좋을 거 같은데 맞아 나도 그런 휴양지 다 가보고 싶다 바다색부터 다르잖아 너무 예뻐 호텔도 장난 아니래 그리고 미국 브랜드 아웃렛에서도 엄청 싸고 그래서 가서 쇼핑도 하고 싶어 궁금하다 나도 현지에서 쇼핑하고 싶다 쇼핑백 양손에 들고나와서 당당하게 걷기 너무 좋지 그런 거..\n",
            "좋다 아 근데 한 세시 이십분? 그럴 때 가야 할 듯? 병원에 한시 반에 도착하는 가로 하자 노키오키 게 좋음 나갈 때 같이 나가야겠다 오키오키\n",
            "야 나 근데 수요일에 술 약속 있음 근데 그렇다고 나 아직 언니네 집 갈ㄹ지 안 갈지 멀랔 으응..\n",
            "근데 지금 내 걱정 할 때가 아니야 맘 아프겠지만 중국 취소하자 #@이모티콘# 웅.. 독립기념관도 출근해서 회의하고 있을 거 같음 워크숍 피하게 거기서 2박 3일 동안 숙박하면 안 되냐고 졸라보게 마스크 비싼 거 사서 가구 손 소독제도 들고 다니고 핸드워시도 하루 종일 손 씻어야 혀 이건 손 잘 씻는다고 또 방지되는 것도 아니라 문제다 진짜\n",
            "아 그럼 낼 만나는 거 아니지? 5/5날 만나는 거지? 네 조와 써 쌍리 딴 길에 파스타랑 우육면이랑 그냥 그때 돌아대기다가 당기는 거 먹을까 네 그리고 산책 점하다가 디쟈트도먹궁\n",
            "언제 오려고? 나 지금 갈려고 얼른 갈게 지금은 어딘데? 오는 길에 나 마실 거 하나 사다 줄 수 있어? 응응 뭐 사갈까? 탄산 아무거나 사다 주세요 ~ 탄산 이용? 알겠어 고마워 탄산~ 금방 사서 갈게\n",
            "들가? 저녁 묵고 가? 들와~왜 저녁을 먹고 와 집에서 같이 먹어야지 오키 내리면 톡 줘~밥 차릴게 어디쯤? 녹번역 지났어 오키\n",
            "옷도.. 새로 산 옷.. #@시스템#사진# 기내식 여행을 위해 모든 것을 새로 맞춘 대 이 피자랑 같이 오는 오븐 스파 게타 같음 맛 후기:스파게티를 위장한 무언가 밍밍.. 놈 맛 기내식이.. 그렇죠 뭐.. 먹을만한건음료뿐.. 그마저도 물..\n",
            "너 안 가면 나도 안가 나도 빠질래 이 모 #@이름#이가 가자 했음? 나한테 안 물어봤잖아 아 너? 엉엉 #@이름# 울어 아니 착한 낙지 언제 한번 가자 ~ 이랬던 거라 나한테 말한 거겠지\n",
            "0박 2일인 거 알지 #@이름#아 0박 2일이 뭐죠.. 밤샌다규 ★ 찡긋 따라 흠.. 체력이 따라줄지.. 제일 젊은 #@이름#가 그럼 지 술 마시고 피시방 가서 배그 어떰 #@이모티콘# 근데 솔직히 말하면 오산 너무 쪼그마해서.. 새벽 1시쯤 되면 다 깜깜함 .. 여기 시내가.. 가 오동만 해..\n",
            "온라인 미팅 50분씩이라 너무 좋아요! 오 매일매일 해주나요? 화요일 오전 11시 / 오후 8시 이렇게 두타임 일주일에 두 번 입ㄴ디ㅏ : 오늘은 텐코여! 완전 귀에 쏙쏙 들어오게 핵심만 해주심! 아하 월요일은 두산위브에서 오프라인 모임이고요!? #@시스템#사진#\n",
            "몇 시쯤 볼까 1시까지 보자 어디서 봐야 하지 그러게 음 둔산에서 밥 먹고 넘어가자 갤러리아에서 보면 되겠다\n",
            "궁중? 아니몀 매운 거? 궁중 #@이모티콘#흡족# 오께 어이! 누룽지도 가져갈게 사지 마슈 넹넹 #@이모티콘#행복# 오께 이 낼모레 봐요!\n",
            "그럼 언제 갈래 오늘 수업 언제 끝남? 오늘은 다섯시 그럼 같이 집 가서 밥 먹자 옹 알게 언니 어디 있을 건데 중도 쉽 끝나고 갈게\n",
            "근데 일요일에 밥만 먹고 나와야 해서 너무 서운해 11시도 안돼서 나와야 하잖아 밥만 먹고 나 가게도 들러야 하는데.. 담 주간 다 했다 고마워.. 다른 사람들은 결혼식 끝나고 주례한데 또 인사 안 간대 선물만 전해주면 안되는 거니 아냐.. 담 주에 가자 좀 유난스러운 것 같아도 발하고 치우자 웅.. 에효\n",
            "쓰자 휴가 쓰자 엥 아껴야 돼 흑 맞다 아껴놩 웅 헤헤 부산 가야지\n",
            "북문 당도 사 먹고.. 오빠 북문당 먹고 싶다! ㅜ북문당 맛있지 안 먹은 지 오래됐네 내일은 근데 공부해야 돼 가지고 시내 못 가ㅠ 그치 시험.. 오빠가 오늘 북문당사서자기네갈까 잉 퇴근하고 다녀오려고? 아아아아아아아 근데 상품권을 바꿔야 하지 다음에 같이 가야겠구먼 응 이번 주는 참구 다음 주에 시험 보러 갈 때 어차피 시험 시내에서 보니가 그때 바꾸고 먹자!\n",
            "#@이름#야~ 나 이번 주에 강릉 간다! 시간 나면 함 보자고~ 놀러오시나욬! 옹옹 이번엔 속초가 아니라 강릉이라서 #@이름# 바쁘고 멀면 안 와도 되지만 그래도 가는 김에? 나 혼자 가는 거라! 홀 혼자 가면 일하다가 말고 그럼 일박하시는 거예요?\n",
            "우리 가는 거 아침 10시 버스로 예매했거든 도착하면 한시 반 정도일 텐데 그냥 나 먼저 머리도 식힐 겸 혼자 돌아다니고 있을 테니까 넌 수업 듣고 오삼 억 수업 다 뺐음? 목요일 수업이 하나거든 3시간짜리 그냥 그거 하나 뺌 아 나 수업 가기 시룬뎅 나도 수업 뺄래 그때 같이 만나자\n",
            "그리고 거기 캣 콜링 오져 필리피노 마켓 쪽 칼 들고 다니면 돼? 베트남 저리 가라 그럼 덜하려나 흉기 차고 다녀라\n",
            "언제 와요? 2시~ 지금 티타임 중~ 응 시간? 안돼? 나 혼자 갈게 그럼 얘기가 길어지네~ ㅠ 끊을 수 없게 그래서~ 30분까지는 갈게 기다려봐 봐 아냐 #@이름#데리러 가야 해 그때는\n",
            "벌써 다다음 주네 아 혹시 강릉 가는 거 다음 주 가능? 왱? 점장님 영업회의 잡혀서 다다음 주 안 댈 것 같은데 아 잠만 거기서 뒤로 미루는가 보다 당기는 게 나을 것 같아 ..? 다음 주 무슨 요일? 아 담 주안 댐?\n",
            "난 너네 집 갈 때 가방에 담아서 갈래 스킨로션 선크림 아무것도 안 챙기는데 그럼 좋아 평소에 그냥 가서 살고 잡어ㅠ\n",
            "톈진역 지하 1층에 여기 드럭이 싸대요 오오 좋아 그래서 일 센트가 도 될 거 같아요 오키 언니 근데 이번에 어디 어디 다닐 거예요? 다이묘 거리 쪽 이번엔 안가여? 톈진에서 자는데 거기 가는 거 아님? 안 그럼 톈진에서 잘 필요가 없잖아\n",
            "그럼 이제 다른 곳 돌아봐? 힘들다 뉴ㅠ 다 봤어 이제? 더 잇긴 한데 내일이나 나중에 갈 거 같아 아하 먼저 나와도 대? 갠 찬양 오늘 거의 다 끝나성 아침부터 정말 고생했네 다리 아프다 이유\n",
            "야 우리 12월ᄋ ㅔ 파티하는 거 기억하고 있겠지 당근 당근 >_< 좋은 데 가즈아~! 게 좋다 야 12월 금방이야~ 우리 날짜 정하자 일요일 만나면 옥이 조앙 야 당연하지 연말파뤼파뤼 해야지~ 진짜 코로나만 아니면 여기저기 놀러 댕기고 싶다\n",
            "9월에 해수욕장 폐장해 이거 31일이라 가자 아니.. 해수욕장 안 갈래.. 일이 너무 많아 일이 많아? 어휴 .. 챙길 거랑 이것저것 멀다 멀어 가다가 벌써 체력 0이다\n",
            "#@이름# 이번 주 일요일도 안되는 거지? 아아 그럼 화요일? 나 화요일 돼! 그럼 호ㅓ욜 저녁에 봬요! 콜콜 뭐 먹을까 요녀 #@이모티콘# 훔냐링 #@이름# 먹고 싶은 거 먹자\n",
            "결혼식 끝나 써요?! 나 벌써 퇴근이야 아니 벌써? 나는 아직 밥 먹고 있어 음 신도림이라 했나?! 그럼 금정에 사 만날까?! 집에 있다 나 가께! 윙윙 나 출발하몈 말할게요! #@이름# 나 이제 다무쩌! 나와서 가려귱 전철 타구 와?! 윙윙 나랑 사이좋게 가자ᅲ 좋아좋아 전철 타면 나도 나갈게!\n",
            "렌트는 모 좀 싸게 안 되나.. 성수기라 이럴 땐 렌트도 어렵네 사실 대명 함덕에만 있을 거면 버스 타고 가도 됨 말도 안 되는 소리 렌트 하지 말고 불편해\n",
            "#@이름#아 나는 공항 갈 때 마카오 도착해서 바로 숙소 가는 날 아예 잠옷을 입고 갈 거야 그거로 잠옷 계속 입고 공항은 근데 어떻게 갈 거야!? 그게 편하겠네 잠옷 그냥 편한 옷으로 입고 간다는 거지? 공항 가는 거는 공항버스가 제일 무난하지 않아? 웅 나 수락산 바로 옆에 이만 원 정도 했던 거 같은데 공항 가는 거 있어가지고 엄청 편해요 거 얼마지? 거기도 비싸 만 얼마? 16000원 정도 했던 거 같던데 공항 리무진 그런가 그거 타는 게 제일 나을 거 같아 짐도 있으니까 아니면 대중교통도 있고 버스 요금은 만 오천이라고 하는 거 같네 웅 어우 아녀 아닌가 대중교통이 나은가 찾아보니까 윙윙 대중교통도 있잖아 공항철도 우리 어차피 새벽 비행기라 상관은 없겠다 늦게 가도 되니까 상관없을 거 같아\n",
            "낼 언제 낚시가? 어디 가기로 했는데~ 양산으로 갈 거 같은데 오전 11시쯤? 아먼데 바당ㄴ가? 바다 안가? 내 회는..? 바다 아니고 강 나 혼자 가면 바다 가구 에잇..! 오랜만에 회 먹나 했네~\n",
            "공주 언제 보카 수요일? 어디서 보카 그러게 어디서 벌까 글쎄 공주 집 앞에 ? 진짜 오래간만에 우리 집 앞이면 나는 좋지\n",
            "야 야구장 가자! 선착순이라서 방금 신청해버렸다 근데 담 주 화요일에 #@이름# 부산에 있나? 아 담 주 화요일 말고 30일! 화요일! 시간이 워리! 드디어 야구장을 가보는구나\n"
          ]
        }
      ]
    },
    {
      "cell_type": "code",
      "source": [
        "preprocess(train.iloc[334,0])"
      ],
      "metadata": {
        "colab": {
          "base_uri": "https://localhost:8080/",
          "height": 54
        },
        "id": "TTTZ0eYcaCBj",
        "outputId": "fa5ff0bf-1111-4571-acba-10cbd1a97307"
      },
      "execution_count": 26,
      "outputs": [
        {
          "output_type": "execute_result",
          "data": {
            "text/plain": [
              "'#@이름#이야 난 왜 이리 피곤한 걸까.. 잠도 많이 자는데? 왜 그러지 정말.. 영양제 좀 먹어야 하나 난방기를 가스로 돌리는 건데 그거 땜에 그런 걸까? 가스? 가스난방기가 있어? 등유로 하는 거! 그건 머리 아플 텐데 냄새도 나고 근데 난방기가 이거밖에 없어 다른 거 설치해달라고 해 환경이 참..'"
            ],
            "application/vnd.google.colaboratory.intrinsic+json": {
              "type": "string"
            }
          },
          "metadata": {},
          "execution_count": 26
        }
      ]
    },
    {
      "cell_type": "code",
      "source": [
        "train.Text = train.Text.map(lambda x: preprocess(x))"
      ],
      "metadata": {
        "id": "OUgmAKHLRQWU"
      },
      "execution_count": null,
      "outputs": []
    },
    {
      "cell_type": "code",
      "source": [
        "valid.Text = valid.Text.map(lambda x: preprocess(x))"
      ],
      "metadata": {
        "id": "ne1WYFfgRQmm",
        "colab": {
          "base_uri": "https://localhost:8080/",
          "height": 694
        },
        "outputId": "9fc51bf0-8b45-468e-978d-136f74608f84"
      },
      "execution_count": 23,
      "outputs": [
        {
          "output_type": "error",
          "ename": "ParseError",
          "evalue": "ignored",
          "traceback": [
            "Traceback \u001b[0;36m(most recent call last)\u001b[0m:\n",
            "  File \u001b[1;32m\"/usr/local/lib/python3.10/dist-packages/IPython/core/interactiveshell.py\"\u001b[0m, line \u001b[1;32m3553\u001b[0m, in \u001b[1;35mrun_code\u001b[0m\n    exec(code_obj, self.user_global_ns, self.user_ns)\n",
            "  File \u001b[1;32m\"<ipython-input-23-4ac196376057>\"\u001b[0m, line \u001b[1;32m1\u001b[0m, in \u001b[1;35m<cell line: 1>\u001b[0m\n    valid.Text = valid.Text.map(lambda x: preprocess(x))\n",
            "  File \u001b[1;32m\"/usr/local/lib/python3.10/dist-packages/pandas/core/series.py\"\u001b[0m, line \u001b[1;32m4539\u001b[0m, in \u001b[1;35mmap\u001b[0m\n    new_values = self._map_values(arg, na_action=na_action)\n",
            "  File \u001b[1;32m\"/usr/local/lib/python3.10/dist-packages/pandas/core/base.py\"\u001b[0m, line \u001b[1;32m890\u001b[0m, in \u001b[1;35m_map_values\u001b[0m\n    new_values = map_f(values, mapper)\n",
            "  File \u001b[1;32m\"pandas/_libs/lib.pyx\"\u001b[0m, line \u001b[1;32m2924\u001b[0m, in \u001b[1;35mpandas._libs.lib.map_infer\u001b[0m\n",
            "  File \u001b[1;32m\"<ipython-input-23-4ac196376057>\"\u001b[0m, line \u001b[1;32m1\u001b[0m, in \u001b[1;35m<lambda>\u001b[0m\n    valid.Text = valid.Text.map(lambda x: preprocess(x))\n",
            "  File \u001b[1;32m\"<ipython-input-21-8085dbde42b7>\"\u001b[0m, line \u001b[1;32m4\u001b[0m, in \u001b[1;35mpreprocess\u001b[0m\n    text = spell_checker.check(text).checked # 맞춤법 검사\n",
            "  File \u001b[1;32m\"/usr/local/lib/python3.10/dist-packages/hanspell/spell_checker.py\"\u001b[0m, line \u001b[1;32m66\u001b[0m, in \u001b[1;35mcheck\u001b[0m\n    'checked': _remove_tags(html),\n",
            "  File \u001b[1;32m\"/usr/local/lib/python3.10/dist-packages/hanspell/spell_checker.py\"\u001b[0m, line \u001b[1;32m27\u001b[0m, in \u001b[1;35m_remove_tags\u001b[0m\n    result = ''.join(ET.fromstring(text).itertext())\n",
            "\u001b[0;36m  File \u001b[0;32m\"/usr/lib/python3.10/xml/etree/ElementTree.py\"\u001b[0;36m, line \u001b[0;32m1342\u001b[0;36m, in \u001b[0;35mXML\u001b[0;36m\u001b[0m\n\u001b[0;31m    parser.feed(text)\u001b[0m\n",
            "\u001b[0;36m  File \u001b[0;32m\"<string>\"\u001b[0;36m, line \u001b[0;32munknown\u001b[0m\n\u001b[0;31mParseError\u001b[0m\u001b[0;31m:\u001b[0m not well-formed (invalid token): line 1, column 334\n"
          ]
        }
      ]
    },
    {
      "cell_type": "code",
      "source": [
        "train.head()"
      ],
      "metadata": {
        "id": "YFMWD6RxSDaa"
      },
      "execution_count": null,
      "outputs": []
    },
    {
      "cell_type": "code",
      "source": [
        "valid.head()"
      ],
      "metadata": {
        "id": "lm1C6mb2Scqk"
      },
      "execution_count": null,
      "outputs": []
    },
    {
      "cell_type": "code",
      "source": [],
      "metadata": {
        "id": "9N5xmenwSeTB"
      },
      "execution_count": null,
      "outputs": []
    },
    {
      "cell_type": "markdown",
      "source": [
        "https://velog.io/@jx7789/%EC%B9%B4%EC%B9%B4%EC%98%A4%ED%86%A1-%EB%8C%80%ED%99%94-%EC%9A%94%EC%95%BD-%EC%84%9C%EB%B9%84%EC%8A%A4-pepkrzfe"
      ],
      "metadata": {
        "id": "A5-SVxr56N1Z"
      }
    }
  ]
}