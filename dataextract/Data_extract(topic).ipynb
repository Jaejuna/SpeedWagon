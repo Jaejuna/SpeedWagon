{
  "nbformat": 4,
  "nbformat_minor": 0,
  "metadata": {
    "colab": {
      "provenance": [],
      "authorship_tag": "ABX9TyPYLqXYQ3N3FqpCnbUPd8RO",
      "include_colab_link": true
    },
    "kernelspec": {
      "name": "python3",
      "display_name": "Python 3"
    },
    "language_info": {
      "name": "python"
    }
  },
  "cells": [
    {
      "cell_type": "markdown",
      "metadata": {
        "id": "view-in-github",
        "colab_type": "text"
      },
      "source": [
        "<a href=\"https://colab.research.google.com/github/Jaejuna/SpeedWagon/blob/main/dataextract/Data_extract(topic).ipynb\" target=\"_parent\"><img src=\"https://colab.research.google.com/assets/colab-badge.svg\" alt=\"Open In Colab\"/></a>"
      ]
    },
    {
      "cell_type": "code",
      "execution_count": 1,
      "metadata": {
        "colab": {
          "base_uri": "https://localhost:8080/"
        },
        "id": "Ox-Eeh8v5C8R",
        "outputId": "3256b175-fcdd-4f38-dadb-37220263d8ea"
      },
      "outputs": [
        {
          "output_type": "stream",
          "name": "stdout",
          "text": [
            "Mounted at /content/drive\n"
          ]
        }
      ],
      "source": [
        "from google.colab import drive\n",
        "drive.mount('/content/drive')"
      ]
    },
    {
      "cell_type": "code",
      "source": [
        "import pandas as pd"
      ],
      "metadata": {
        "id": "xxkwk13L5Gtc"
      },
      "execution_count": 2,
      "outputs": []
    },
    {
      "cell_type": "code",
      "source": [
        "train = pd.read_csv('/content/drive/MyDrive/BOAZ_miniProject2/train.csv')\n",
        "valid = pd.read_csv('/content/drive/MyDrive/BOAZ_miniProject2/valid.csv')"
      ],
      "metadata": {
        "id": "pnHYnZLq5o3l"
      },
      "execution_count": 3,
      "outputs": []
    },
    {
      "cell_type": "code",
      "source": [
        "print(\"Size of train data :\", len(train))\n",
        "print(\"Size of validation data :\", len(valid))"
      ],
      "metadata": {
        "colab": {
          "base_uri": "https://localhost:8080/"
        },
        "id": "DA4eFYPL5qP8",
        "outputId": "3d3cfa02-4ea8-47b7-ef84-38df2c7b1789"
      },
      "execution_count": 4,
      "outputs": [
        {
          "output_type": "stream",
          "name": "stdout",
          "text": [
            "Size of train data : 279992\n",
            "Size of validation data : 35004\n"
          ]
        }
      ]
    },
    {
      "cell_type": "code",
      "source": [
        "train['Topic'].unique()"
      ],
      "metadata": {
        "colab": {
          "base_uri": "https://localhost:8080/"
        },
        "id": "ZcsNh6025sat",
        "outputId": "a28a68a8-277f-435d-b30a-a7101e19d13c"
      },
      "execution_count": 5,
      "outputs": [
        {
          "output_type": "execute_result",
          "data": {
            "text/plain": [
              "array(['주거와생활', '시사교육', '상거래(쇼핑)', '개인및관계',\n",
              "       '행사', '미용과건강', '일과직업', '식음료', '여가생활'],\n",
              "      dtype=object)"
            ]
          },
          "metadata": {},
          "execution_count": 5
        }
      ]
    },
    {
      "cell_type": "code",
      "source": [
        "# Topic 별 Dialogue 수\n",
        "pd.DataFrame(train.groupby(\"Topic\").count().iloc[:,0])"
      ],
      "metadata": {
        "colab": {
          "base_uri": "https://localhost:8080/",
          "height": 363
        },
        "id": "aAtn0K9T5voo",
        "outputId": "9567bbed-d4da-4a44-ee2a-59d619f780b5"
      },
      "execution_count": 6,
      "outputs": [
        {
          "output_type": "execute_result",
          "data": {
            "text/plain": [
              "                 Text\n",
              "Topic                \n",
              "개인및관계   71130\n",
              "미용과건강   17069\n",
              "상거래(쇼핑)  26298\n",
              "시사교육       13119\n",
              "식음료        30184\n",
              "여가생활      35247\n",
              "일과직업     20428\n",
              "주거와생활    45179\n",
              "행사           21338"
            ],
            "text/html": [
              "\n",
              "  <div id=\"df-3f48dc96-c257-4636-9fdc-6444768ee282\">\n",
              "    <div class=\"colab-df-container\">\n",
              "      <div>\n",
              "<style scoped>\n",
              "    .dataframe tbody tr th:only-of-type {\n",
              "        vertical-align: middle;\n",
              "    }\n",
              "\n",
              "    .dataframe tbody tr th {\n",
              "        vertical-align: top;\n",
              "    }\n",
              "\n",
              "    .dataframe thead th {\n",
              "        text-align: right;\n",
              "    }\n",
              "</style>\n",
              "<table border=\"1\" class=\"dataframe\">\n",
              "  <thead>\n",
              "    <tr style=\"text-align: right;\">\n",
              "      <th></th>\n",
              "      <th>Text</th>\n",
              "    </tr>\n",
              "    <tr>\n",
              "      <th>Topic</th>\n",
              "      <th></th>\n",
              "    </tr>\n",
              "  </thead>\n",
              "  <tbody>\n",
              "    <tr>\n",
              "      <th>개인및관계</th>\n",
              "      <td>71130</td>\n",
              "    </tr>\n",
              "    <tr>\n",
              "      <th>미용과건강</th>\n",
              "      <td>17069</td>\n",
              "    </tr>\n",
              "    <tr>\n",
              "      <th>상거래(쇼핑)</th>\n",
              "      <td>26298</td>\n",
              "    </tr>\n",
              "    <tr>\n",
              "      <th>시사교육</th>\n",
              "      <td>13119</td>\n",
              "    </tr>\n",
              "    <tr>\n",
              "      <th>식음료</th>\n",
              "      <td>30184</td>\n",
              "    </tr>\n",
              "    <tr>\n",
              "      <th>여가생활</th>\n",
              "      <td>35247</td>\n",
              "    </tr>\n",
              "    <tr>\n",
              "      <th>일과직업</th>\n",
              "      <td>20428</td>\n",
              "    </tr>\n",
              "    <tr>\n",
              "      <th>주거와생활</th>\n",
              "      <td>45179</td>\n",
              "    </tr>\n",
              "    <tr>\n",
              "      <th>행사</th>\n",
              "      <td>21338</td>\n",
              "    </tr>\n",
              "  </tbody>\n",
              "</table>\n",
              "</div>\n",
              "      <button class=\"colab-df-convert\" onclick=\"convertToInteractive('df-3f48dc96-c257-4636-9fdc-6444768ee282')\"\n",
              "              title=\"Convert this dataframe to an interactive table.\"\n",
              "              style=\"display:none;\">\n",
              "        \n",
              "  <svg xmlns=\"http://www.w3.org/2000/svg\" height=\"24px\"viewBox=\"0 0 24 24\"\n",
              "       width=\"24px\">\n",
              "    <path d=\"M0 0h24v24H0V0z\" fill=\"none\"/>\n",
              "    <path d=\"M18.56 5.44l.94 2.06.94-2.06 2.06-.94-2.06-.94-.94-2.06-.94 2.06-2.06.94zm-11 1L8.5 8.5l.94-2.06 2.06-.94-2.06-.94L8.5 2.5l-.94 2.06-2.06.94zm10 10l.94 2.06.94-2.06 2.06-.94-2.06-.94-.94-2.06-.94 2.06-2.06.94z\"/><path d=\"M17.41 7.96l-1.37-1.37c-.4-.4-.92-.59-1.43-.59-.52 0-1.04.2-1.43.59L10.3 9.45l-7.72 7.72c-.78.78-.78 2.05 0 2.83L4 21.41c.39.39.9.59 1.41.59.51 0 1.02-.2 1.41-.59l7.78-7.78 2.81-2.81c.8-.78.8-2.07 0-2.86zM5.41 20L4 18.59l7.72-7.72 1.47 1.35L5.41 20z\"/>\n",
              "  </svg>\n",
              "      </button>\n",
              "      \n",
              "  <style>\n",
              "    .colab-df-container {\n",
              "      display:flex;\n",
              "      flex-wrap:wrap;\n",
              "      gap: 12px;\n",
              "    }\n",
              "\n",
              "    .colab-df-convert {\n",
              "      background-color: #E8F0FE;\n",
              "      border: none;\n",
              "      border-radius: 50%;\n",
              "      cursor: pointer;\n",
              "      display: none;\n",
              "      fill: #1967D2;\n",
              "      height: 32px;\n",
              "      padding: 0 0 0 0;\n",
              "      width: 32px;\n",
              "    }\n",
              "\n",
              "    .colab-df-convert:hover {\n",
              "      background-color: #E2EBFA;\n",
              "      box-shadow: 0px 1px 2px rgba(60, 64, 67, 0.3), 0px 1px 3px 1px rgba(60, 64, 67, 0.15);\n",
              "      fill: #174EA6;\n",
              "    }\n",
              "\n",
              "    [theme=dark] .colab-df-convert {\n",
              "      background-color: #3B4455;\n",
              "      fill: #D2E3FC;\n",
              "    }\n",
              "\n",
              "    [theme=dark] .colab-df-convert:hover {\n",
              "      background-color: #434B5C;\n",
              "      box-shadow: 0px 1px 3px 1px rgba(0, 0, 0, 0.15);\n",
              "      filter: drop-shadow(0px 1px 2px rgba(0, 0, 0, 0.3));\n",
              "      fill: #FFFFFF;\n",
              "    }\n",
              "  </style>\n",
              "\n",
              "      <script>\n",
              "        const buttonEl =\n",
              "          document.querySelector('#df-3f48dc96-c257-4636-9fdc-6444768ee282 button.colab-df-convert');\n",
              "        buttonEl.style.display =\n",
              "          google.colab.kernel.accessAllowed ? 'block' : 'none';\n",
              "\n",
              "        async function convertToInteractive(key) {\n",
              "          const element = document.querySelector('#df-3f48dc96-c257-4636-9fdc-6444768ee282');\n",
              "          const dataTable =\n",
              "            await google.colab.kernel.invokeFunction('convertToInteractive',\n",
              "                                                     [key], {});\n",
              "          if (!dataTable) return;\n",
              "\n",
              "          const docLinkHtml = 'Like what you see? Visit the ' +\n",
              "            '<a target=\"_blank\" href=https://colab.research.google.com/notebooks/data_table.ipynb>data table notebook</a>'\n",
              "            + ' to learn more about interactive tables.';\n",
              "          element.innerHTML = '';\n",
              "          dataTable['output_type'] = 'display_data';\n",
              "          await google.colab.output.renderOutput(dataTable, element);\n",
              "          const docLink = document.createElement('div');\n",
              "          docLink.innerHTML = docLinkHtml;\n",
              "          element.appendChild(docLink);\n",
              "        }\n",
              "      </script>\n",
              "    </div>\n",
              "  </div>\n",
              "  "
            ]
          },
          "metadata": {},
          "execution_count": 6
        }
      ]
    },
    {
      "cell_type": "code",
      "source": [
        "pd.DataFrame(valid.groupby(\"Topic\").count().iloc[:,0])"
      ],
      "metadata": {
        "colab": {
          "base_uri": "https://localhost:8080/",
          "height": 363
        },
        "id": "mYXb5gY85w3f",
        "outputId": "c1d6fd83-b9aa-40ad-c0af-e38d6899fa4f"
      },
      "execution_count": 7,
      "outputs": [
        {
          "output_type": "execute_result",
          "data": {
            "text/plain": [
              "                Text\n",
              "Topic               \n",
              "개인및관계   8892\n",
              "미용과건강   2134\n",
              "상거래(쇼핑)  3288\n",
              "시사교육       1640\n",
              "식음료        3773\n",
              "여가생활      4407\n",
              "일과직업     2554\n",
              "주거와생활    5648\n",
              "행사           2668"
            ],
            "text/html": [
              "\n",
              "  <div id=\"df-bf4bcc53-96de-44c6-9da0-2e2b055eba13\">\n",
              "    <div class=\"colab-df-container\">\n",
              "      <div>\n",
              "<style scoped>\n",
              "    .dataframe tbody tr th:only-of-type {\n",
              "        vertical-align: middle;\n",
              "    }\n",
              "\n",
              "    .dataframe tbody tr th {\n",
              "        vertical-align: top;\n",
              "    }\n",
              "\n",
              "    .dataframe thead th {\n",
              "        text-align: right;\n",
              "    }\n",
              "</style>\n",
              "<table border=\"1\" class=\"dataframe\">\n",
              "  <thead>\n",
              "    <tr style=\"text-align: right;\">\n",
              "      <th></th>\n",
              "      <th>Text</th>\n",
              "    </tr>\n",
              "    <tr>\n",
              "      <th>Topic</th>\n",
              "      <th></th>\n",
              "    </tr>\n",
              "  </thead>\n",
              "  <tbody>\n",
              "    <tr>\n",
              "      <th>개인및관계</th>\n",
              "      <td>8892</td>\n",
              "    </tr>\n",
              "    <tr>\n",
              "      <th>미용과건강</th>\n",
              "      <td>2134</td>\n",
              "    </tr>\n",
              "    <tr>\n",
              "      <th>상거래(쇼핑)</th>\n",
              "      <td>3288</td>\n",
              "    </tr>\n",
              "    <tr>\n",
              "      <th>시사교육</th>\n",
              "      <td>1640</td>\n",
              "    </tr>\n",
              "    <tr>\n",
              "      <th>식음료</th>\n",
              "      <td>3773</td>\n",
              "    </tr>\n",
              "    <tr>\n",
              "      <th>여가생활</th>\n",
              "      <td>4407</td>\n",
              "    </tr>\n",
              "    <tr>\n",
              "      <th>일과직업</th>\n",
              "      <td>2554</td>\n",
              "    </tr>\n",
              "    <tr>\n",
              "      <th>주거와생활</th>\n",
              "      <td>5648</td>\n",
              "    </tr>\n",
              "    <tr>\n",
              "      <th>행사</th>\n",
              "      <td>2668</td>\n",
              "    </tr>\n",
              "  </tbody>\n",
              "</table>\n",
              "</div>\n",
              "      <button class=\"colab-df-convert\" onclick=\"convertToInteractive('df-bf4bcc53-96de-44c6-9da0-2e2b055eba13')\"\n",
              "              title=\"Convert this dataframe to an interactive table.\"\n",
              "              style=\"display:none;\">\n",
              "        \n",
              "  <svg xmlns=\"http://www.w3.org/2000/svg\" height=\"24px\"viewBox=\"0 0 24 24\"\n",
              "       width=\"24px\">\n",
              "    <path d=\"M0 0h24v24H0V0z\" fill=\"none\"/>\n",
              "    <path d=\"M18.56 5.44l.94 2.06.94-2.06 2.06-.94-2.06-.94-.94-2.06-.94 2.06-2.06.94zm-11 1L8.5 8.5l.94-2.06 2.06-.94-2.06-.94L8.5 2.5l-.94 2.06-2.06.94zm10 10l.94 2.06.94-2.06 2.06-.94-2.06-.94-.94-2.06-.94 2.06-2.06.94z\"/><path d=\"M17.41 7.96l-1.37-1.37c-.4-.4-.92-.59-1.43-.59-.52 0-1.04.2-1.43.59L10.3 9.45l-7.72 7.72c-.78.78-.78 2.05 0 2.83L4 21.41c.39.39.9.59 1.41.59.51 0 1.02-.2 1.41-.59l7.78-7.78 2.81-2.81c.8-.78.8-2.07 0-2.86zM5.41 20L4 18.59l7.72-7.72 1.47 1.35L5.41 20z\"/>\n",
              "  </svg>\n",
              "      </button>\n",
              "      \n",
              "  <style>\n",
              "    .colab-df-container {\n",
              "      display:flex;\n",
              "      flex-wrap:wrap;\n",
              "      gap: 12px;\n",
              "    }\n",
              "\n",
              "    .colab-df-convert {\n",
              "      background-color: #E8F0FE;\n",
              "      border: none;\n",
              "      border-radius: 50%;\n",
              "      cursor: pointer;\n",
              "      display: none;\n",
              "      fill: #1967D2;\n",
              "      height: 32px;\n",
              "      padding: 0 0 0 0;\n",
              "      width: 32px;\n",
              "    }\n",
              "\n",
              "    .colab-df-convert:hover {\n",
              "      background-color: #E2EBFA;\n",
              "      box-shadow: 0px 1px 2px rgba(60, 64, 67, 0.3), 0px 1px 3px 1px rgba(60, 64, 67, 0.15);\n",
              "      fill: #174EA6;\n",
              "    }\n",
              "\n",
              "    [theme=dark] .colab-df-convert {\n",
              "      background-color: #3B4455;\n",
              "      fill: #D2E3FC;\n",
              "    }\n",
              "\n",
              "    [theme=dark] .colab-df-convert:hover {\n",
              "      background-color: #434B5C;\n",
              "      box-shadow: 0px 1px 3px 1px rgba(0, 0, 0, 0.15);\n",
              "      filter: drop-shadow(0px 1px 2px rgba(0, 0, 0, 0.3));\n",
              "      fill: #FFFFFF;\n",
              "    }\n",
              "  </style>\n",
              "\n",
              "      <script>\n",
              "        const buttonEl =\n",
              "          document.querySelector('#df-bf4bcc53-96de-44c6-9da0-2e2b055eba13 button.colab-df-convert');\n",
              "        buttonEl.style.display =\n",
              "          google.colab.kernel.accessAllowed ? 'block' : 'none';\n",
              "\n",
              "        async function convertToInteractive(key) {\n",
              "          const element = document.querySelector('#df-bf4bcc53-96de-44c6-9da0-2e2b055eba13');\n",
              "          const dataTable =\n",
              "            await google.colab.kernel.invokeFunction('convertToInteractive',\n",
              "                                                     [key], {});\n",
              "          if (!dataTable) return;\n",
              "\n",
              "          const docLinkHtml = 'Like what you see? Visit the ' +\n",
              "            '<a target=\"_blank\" href=https://colab.research.google.com/notebooks/data_table.ipynb>data table notebook</a>'\n",
              "            + ' to learn more about interactive tables.';\n",
              "          element.innerHTML = '';\n",
              "          dataTable['output_type'] = 'display_data';\n",
              "          await google.colab.output.renderOutput(dataTable, element);\n",
              "          const docLink = document.createElement('div');\n",
              "          docLink.innerHTML = docLinkHtml;\n",
              "          element.appendChild(docLink);\n",
              "        }\n",
              "      </script>\n",
              "    </div>\n",
              "  </div>\n",
              "  "
            ]
          },
          "metadata": {},
          "execution_count": 7
        }
      ]
    },
    {
      "cell_type": "markdown",
      "source": [
        "# Data extract\n",
        "- 토픽 9개\n",
        "- '개인및관계' 데이터 개수 가장 많기 때문에 우선 이 토픽으로만 데이터 추출!\n",
        "  - train : 27993, 55986 개씩 추출\n",
        "  - valid : 3496, 6992 개씩 추출\n",
        "  - 랜덤으로 추출"
      ],
      "metadata": {
        "id": "Y7MJ8qBK5zgy"
      }
    },
    {
      "cell_type": "markdown",
      "source": [
        "## train data"
      ],
      "metadata": {
        "id": "IYDZSLfW-Ya_"
      }
    },
    {
      "cell_type": "code",
      "source": [
        "df1 = train.loc[train['Topic']=='개인및관계'].sample(n=27993)\n",
        "df2 = train.loc[train['Topic']=='개인및관계'].sample(n=55986)"
      ],
      "metadata": {
        "id": "vPkfAuL0xyS9"
      },
      "execution_count": 18,
      "outputs": []
    },
    {
      "cell_type": "code",
      "source": [
        "print(len(df1))\n",
        "print(len(df2))"
      ],
      "metadata": {
        "colab": {
          "base_uri": "https://localhost:8080/"
        },
        "id": "BUGbdyrJtT_v",
        "outputId": "5c9b5d8c-352a-4632-9657-f1218b1a51f1"
      },
      "execution_count": 20,
      "outputs": [
        {
          "output_type": "stream",
          "name": "stdout",
          "text": [
            "27993\n",
            "55986\n"
          ]
        }
      ]
    },
    {
      "cell_type": "markdown",
      "source": [
        "## valid data"
      ],
      "metadata": {
        "id": "R37uX-p5-bT7"
      }
    },
    {
      "cell_type": "code",
      "source": [
        "df3 = valid.loc[valid['Topic']=='개인및관계'].sample(n=3496)\n",
        "df4 = valid.loc[valid['Topic']=='개인및관계'].sample(n=6992)"
      ],
      "metadata": {
        "id": "MjdUkGfG-UC2"
      },
      "execution_count": 21,
      "outputs": []
    },
    {
      "cell_type": "code",
      "source": [
        "print(len(df3))\n",
        "print(len(df4))"
      ],
      "metadata": {
        "id": "VMolU4JO-8lG",
        "colab": {
          "base_uri": "https://localhost:8080/"
        },
        "outputId": "a84dbe7c-4f6a-4bbb-a93d-65d35f4f1f01"
      },
      "execution_count": 22,
      "outputs": [
        {
          "output_type": "stream",
          "name": "stdout",
          "text": [
            "3496\n",
            "6992\n"
          ]
        }
      ]
    },
    {
      "cell_type": "markdown",
      "source": [
        "## save"
      ],
      "metadata": {
        "id": "Psf8acib_Ayk"
      }
    },
    {
      "cell_type": "code",
      "source": [
        "df1.to_csv('/content/drive/MyDrive/BOAZ_miniProject2/train_new_topic1.csv', index = False)\n",
        "df2.to_csv('/content/drive/MyDrive/BOAZ_miniProject2/train_new_topic2.csv', index = False)"
      ],
      "metadata": {
        "id": "lr_RQ9uG-_yt"
      },
      "execution_count": 23,
      "outputs": []
    },
    {
      "cell_type": "code",
      "source": [
        "df3.to_csv('/content/drive/MyDrive/BOAZ_miniProject2/valid_new_topic1.csv', index = False)\n",
        "df4.to_csv('/content/drive/MyDrive/BOAZ_miniProject2/valid_new_topic2.csv', index = False)"
      ],
      "metadata": {
        "id": "jHUwsp84_KY4"
      },
      "execution_count": 24,
      "outputs": []
    },
    {
      "cell_type": "code",
      "source": [],
      "metadata": {
        "id": "0884zcfc_MSj"
      },
      "execution_count": null,
      "outputs": []
    }
  ]
}